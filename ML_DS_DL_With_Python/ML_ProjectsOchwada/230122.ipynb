{
 "cells": [
  {
   "cell_type": "raw",
   "id": "903c8cf1-6347-4c55-8734-5328013204d7",
   "metadata": {},
   "source": [
    "for x in range(10):\n",
    "    if x % 2 != 0:\n",
    "    \n",
    "        print(x)"
   ]
  },
  {
   "cell_type": "raw",
   "id": "52ac8894-61f5-4ba7-9c26-c9d6bd461963",
   "metadata": {},
   "source": [
    "for x in range(10):\n",
    "    if x % 2 == 0:\n",
    "        print(x)"
   ]
  },
  {
   "cell_type": "code",
   "execution_count": 1,
   "id": "03773a8b-188b-47a7-a127-b2ba7a3a0ef2",
   "metadata": {},
   "outputs": [],
   "source": [
    "import matplotlib\n",
    "from matplotlib import pyplot as plt\n",
    "##import matplotlib.pyplot as plt\n",
    "import numpy as np\n",
    "import pandas as pd"
   ]
  },
  {
   "cell_type": "code",
   "execution_count": 2,
   "id": "99b500a5-20a6-4dc5-9d50-3bea820a7923",
   "metadata": {},
   "outputs": [
    {
     "data": {
      "text/html": [
       "<div>\n",
       "<style scoped>\n",
       "    .dataframe tbody tr th:only-of-type {\n",
       "        vertical-align: middle;\n",
       "    }\n",
       "\n",
       "    .dataframe tbody tr th {\n",
       "        vertical-align: top;\n",
       "    }\n",
       "\n",
       "    .dataframe thead th {\n",
       "        text-align: right;\n",
       "    }\n",
       "</style>\n",
       "<table border=\"1\" class=\"dataframe\">\n",
       "  <thead>\n",
       "    <tr style=\"text-align: right;\">\n",
       "      <th></th>\n",
       "      <th>Years Experience</th>\n",
       "      <th>Employed?</th>\n",
       "      <th>Previous employers</th>\n",
       "      <th>Level of Education</th>\n",
       "      <th>Top-tier school</th>\n",
       "      <th>Interned</th>\n",
       "      <th>Hired</th>\n",
       "    </tr>\n",
       "  </thead>\n",
       "  <tbody>\n",
       "    <tr>\n",
       "      <th>0</th>\n",
       "      <td>10</td>\n",
       "      <td>Y</td>\n",
       "      <td>4</td>\n",
       "      <td>BS</td>\n",
       "      <td>N</td>\n",
       "      <td>N</td>\n",
       "      <td>Y</td>\n",
       "    </tr>\n",
       "    <tr>\n",
       "      <th>1</th>\n",
       "      <td>0</td>\n",
       "      <td>N</td>\n",
       "      <td>0</td>\n",
       "      <td>BS</td>\n",
       "      <td>Y</td>\n",
       "      <td>Y</td>\n",
       "      <td>Y</td>\n",
       "    </tr>\n",
       "    <tr>\n",
       "      <th>2</th>\n",
       "      <td>7</td>\n",
       "      <td>N</td>\n",
       "      <td>6</td>\n",
       "      <td>BS</td>\n",
       "      <td>N</td>\n",
       "      <td>N</td>\n",
       "      <td>N</td>\n",
       "    </tr>\n",
       "    <tr>\n",
       "      <th>3</th>\n",
       "      <td>2</td>\n",
       "      <td>Y</td>\n",
       "      <td>1</td>\n",
       "      <td>MS</td>\n",
       "      <td>Y</td>\n",
       "      <td>N</td>\n",
       "      <td>Y</td>\n",
       "    </tr>\n",
       "    <tr>\n",
       "      <th>4</th>\n",
       "      <td>20</td>\n",
       "      <td>N</td>\n",
       "      <td>2</td>\n",
       "      <td>PhD</td>\n",
       "      <td>Y</td>\n",
       "      <td>N</td>\n",
       "      <td>N</td>\n",
       "    </tr>\n",
       "  </tbody>\n",
       "</table>\n",
       "</div>"
      ],
      "text/plain": [
       "   Years Experience Employed?  Previous employers Level of Education  \\\n",
       "0                10         Y                   4                 BS   \n",
       "1                 0         N                   0                 BS   \n",
       "2                 7         N                   6                 BS   \n",
       "3                 2         Y                   1                 MS   \n",
       "4                20         N                   2                PhD   \n",
       "\n",
       "  Top-tier school Interned Hired  \n",
       "0               N        N     Y  \n",
       "1               Y        Y     Y  \n",
       "2               N        N     N  \n",
       "3               Y        N     Y  \n",
       "4               Y        N     N  "
      ]
     },
     "execution_count": 2,
     "metadata": {},
     "output_type": "execute_result"
    }
   ],
   "source": [
    "df = pd.read_csv(\"PastHires.csv\")\n",
    "df.head()"
   ]
  },
  {
   "cell_type": "code",
   "execution_count": 3,
   "id": "11a3cf70-8287-4c31-9360-0dc2747df299",
   "metadata": {},
   "outputs": [
    {
     "data": {
      "text/html": [
       "<div>\n",
       "<style scoped>\n",
       "    .dataframe tbody tr th:only-of-type {\n",
       "        vertical-align: middle;\n",
       "    }\n",
       "\n",
       "    .dataframe tbody tr th {\n",
       "        vertical-align: top;\n",
       "    }\n",
       "\n",
       "    .dataframe thead th {\n",
       "        text-align: right;\n",
       "    }\n",
       "</style>\n",
       "<table border=\"1\" class=\"dataframe\">\n",
       "  <thead>\n",
       "    <tr style=\"text-align: right;\">\n",
       "      <th></th>\n",
       "      <th>Years Experience</th>\n",
       "      <th>Employed?</th>\n",
       "      <th>Previous employers</th>\n",
       "      <th>Level of Education</th>\n",
       "      <th>Top-tier school</th>\n",
       "      <th>Interned</th>\n",
       "      <th>Hired</th>\n",
       "    </tr>\n",
       "  </thead>\n",
       "  <tbody>\n",
       "    <tr>\n",
       "      <th>0</th>\n",
       "      <td>10</td>\n",
       "      <td>Y</td>\n",
       "      <td>4</td>\n",
       "      <td>BS</td>\n",
       "      <td>N</td>\n",
       "      <td>N</td>\n",
       "      <td>Y</td>\n",
       "    </tr>\n",
       "    <tr>\n",
       "      <th>1</th>\n",
       "      <td>0</td>\n",
       "      <td>N</td>\n",
       "      <td>0</td>\n",
       "      <td>BS</td>\n",
       "      <td>Y</td>\n",
       "      <td>Y</td>\n",
       "      <td>Y</td>\n",
       "    </tr>\n",
       "    <tr>\n",
       "      <th>2</th>\n",
       "      <td>7</td>\n",
       "      <td>N</td>\n",
       "      <td>6</td>\n",
       "      <td>BS</td>\n",
       "      <td>N</td>\n",
       "      <td>N</td>\n",
       "      <td>N</td>\n",
       "    </tr>\n",
       "    <tr>\n",
       "      <th>3</th>\n",
       "      <td>2</td>\n",
       "      <td>Y</td>\n",
       "      <td>1</td>\n",
       "      <td>MS</td>\n",
       "      <td>Y</td>\n",
       "      <td>N</td>\n",
       "      <td>Y</td>\n",
       "    </tr>\n",
       "    <tr>\n",
       "      <th>4</th>\n",
       "      <td>20</td>\n",
       "      <td>N</td>\n",
       "      <td>2</td>\n",
       "      <td>PhD</td>\n",
       "      <td>Y</td>\n",
       "      <td>N</td>\n",
       "      <td>N</td>\n",
       "    </tr>\n",
       "    <tr>\n",
       "      <th>5</th>\n",
       "      <td>0</td>\n",
       "      <td>N</td>\n",
       "      <td>0</td>\n",
       "      <td>PhD</td>\n",
       "      <td>Y</td>\n",
       "      <td>Y</td>\n",
       "      <td>Y</td>\n",
       "    </tr>\n",
       "    <tr>\n",
       "      <th>6</th>\n",
       "      <td>5</td>\n",
       "      <td>Y</td>\n",
       "      <td>2</td>\n",
       "      <td>MS</td>\n",
       "      <td>N</td>\n",
       "      <td>Y</td>\n",
       "      <td>Y</td>\n",
       "    </tr>\n",
       "    <tr>\n",
       "      <th>7</th>\n",
       "      <td>3</td>\n",
       "      <td>N</td>\n",
       "      <td>1</td>\n",
       "      <td>BS</td>\n",
       "      <td>N</td>\n",
       "      <td>Y</td>\n",
       "      <td>Y</td>\n",
       "    </tr>\n",
       "    <tr>\n",
       "      <th>8</th>\n",
       "      <td>15</td>\n",
       "      <td>Y</td>\n",
       "      <td>5</td>\n",
       "      <td>BS</td>\n",
       "      <td>N</td>\n",
       "      <td>N</td>\n",
       "      <td>Y</td>\n",
       "    </tr>\n",
       "    <tr>\n",
       "      <th>9</th>\n",
       "      <td>0</td>\n",
       "      <td>N</td>\n",
       "      <td>0</td>\n",
       "      <td>BS</td>\n",
       "      <td>N</td>\n",
       "      <td>N</td>\n",
       "      <td>N</td>\n",
       "    </tr>\n",
       "  </tbody>\n",
       "</table>\n",
       "</div>"
      ],
      "text/plain": [
       "   Years Experience Employed?  Previous employers Level of Education  \\\n",
       "0                10         Y                   4                 BS   \n",
       "1                 0         N                   0                 BS   \n",
       "2                 7         N                   6                 BS   \n",
       "3                 2         Y                   1                 MS   \n",
       "4                20         N                   2                PhD   \n",
       "5                 0         N                   0                PhD   \n",
       "6                 5         Y                   2                 MS   \n",
       "7                 3         N                   1                 BS   \n",
       "8                15         Y                   5                 BS   \n",
       "9                 0         N                   0                 BS   \n",
       "\n",
       "  Top-tier school Interned Hired  \n",
       "0               N        N     Y  \n",
       "1               Y        Y     Y  \n",
       "2               N        N     N  \n",
       "3               Y        N     Y  \n",
       "4               Y        N     N  \n",
       "5               Y        Y     Y  \n",
       "6               N        Y     Y  \n",
       "7               N        Y     Y  \n",
       "8               N        N     Y  \n",
       "9               N        N     N  "
      ]
     },
     "execution_count": 3,
     "metadata": {},
     "output_type": "execute_result"
    }
   ],
   "source": [
    "df.head(10)"
   ]
  },
  {
   "cell_type": "code",
   "execution_count": 4,
   "id": "8e19e30b-0e5d-4762-be62-1bf2062c107c",
   "metadata": {},
   "outputs": [
    {
     "data": {
      "text/plain": [
       "0     Y\n",
       "1     Y\n",
       "2     N\n",
       "3     Y\n",
       "4     N\n",
       "5     Y\n",
       "6     Y\n",
       "7     Y\n",
       "8     Y\n",
       "9     N\n",
       "10    N\n",
       "11    Y\n",
       "12    Y\n",
       "Name: Hired, dtype: object"
      ]
     },
     "execution_count": 4,
     "metadata": {},
     "output_type": "execute_result"
    }
   ],
   "source": [
    "#Extract a column\n",
    "\n",
    "df['Hired']"
   ]
  },
  {
   "cell_type": "markdown",
   "id": "13062c8e-3c04-4892-a2f1-614d5904539d",
   "metadata": {},
   "source": [
    "# Exercise"
   ]
  },
  {
   "cell_type": "markdown",
   "id": "733c9448-c6f2-48c3-96f7-b46e07ee1af1",
   "metadata": {},
   "source": [
    "#### Try extracting rows 5-10 of our data frame, preserving the \"Previous Employers\" and \"Hired\" Columns.\n",
    "#### Assign that to a new dataframe, and create a histogram plotting the distribution  of the previous employers in this subset of the data."
   ]
  },
  {
   "cell_type": "code",
   "execution_count": 15,
   "id": "ad1d9fe3-ad11-4547-872f-8d64af2d68cc",
   "metadata": {},
   "outputs": [
    {
     "name": "stdout",
     "output_type": "stream",
     "text": [
      "    Previous employers Hired\n",
      "5                    0     Y\n",
      "6                    2     Y\n",
      "7                    1     Y\n",
      "8                    5     Y\n",
      "9                    0     N\n",
      "10                   1     N\n"
     ]
    }
   ],
   "source": [
    "df_prempl_hired = df[['Previous employers', 'Hired']][5:11]\n",
    "print(df_prempl_hired)"
   ]
  },
  {
   "cell_type": "code",
   "execution_count": 18,
   "id": "c559d36e-cde1-4335-a451-e071dbe9d62a",
   "metadata": {},
   "outputs": [
    {
     "data": {
      "text/plain": [
       "<AxesSubplot:ylabel='Frequency'>"
      ]
     },
     "execution_count": 18,
     "metadata": {},
     "output_type": "execute_result"
    },
    {
     "data": {
      "image/png": "[encoded data removed]",
      "text/plain": [
       "<Figure size 432x288 with 1 Axes>"
      ]
     },
     "metadata": {
      "needs_background": "light"
     },
     "output_type": "display_data"
    }
   ],
   "source": [
    "df_prempl_hired.plot(kind = 'hist')"
   ]
  },
  {
   "cell_type": "code",
   "execution_count": 1,
   "id": "21c2e7c8-fd87-416d-b8bb-fa25c2e9e677",
   "metadata": {},
   "outputs": [
    {
     "data": {
      "text/plain": [
       "26824.221838431014"
      ]
     },
     "execution_count": 1,
     "metadata": {},
     "output_type": "execute_result"
    }
   ],
   "source": [
    "import numpy as np\n",
    "\n",
    "# fake income data, centered around 27,000 with normal distribution  and standared deviation of 15,000 with 10,000 data points\n",
    "incomes = np.random.normal(27000, 15000, 10000) \n",
    "\n",
    "np.mean(incomes)"
   ]
  },
  {
   "cell_type": "code",
   "execution_count": 3,
   "id": "39b06502-14d4-4405-b078-fc24109fde10",
   "metadata": {},
   "outputs": [
    {
     "data": {
      "image/png": "[encoded data removed]",
      "text/plain": [
       "<Figure size 432x288 with 1 Axes>"
      ]
     },
     "metadata": {
      "needs_background": "light"
     },
     "output_type": "display_data"
    }
   ],
   "source": [
    "%matplotlib inline\n",
    "import matplotlib.pyplot as plt\n",
    "\n",
    "plt.hist(incomes,50) \n",
    "plt.show()"
   ]
  },
  {
   "cell_type": "code",
   "execution_count": 5,
   "id": "55f39378-d239-4afc-9047-ad1f75e1a3f9",
   "metadata": {},
   "outputs": [
    {
     "data": {
      "text/plain": [
       "26829.52173157885"
      ]
     },
     "execution_count": 5,
     "metadata": {},
     "output_type": "execute_result"
    }
   ],
   "source": [
    "np.median(incomes)"
   ]
  },
  {
   "cell_type": "code",
   "execution_count": 6,
   "id": "b35dec4c-393e-4113-b9ec-504c92939557",
   "metadata": {},
   "outputs": [],
   "source": [
    "incomes = np.append(incomes, [1000000000])"
   ]
  },
  {
   "cell_type": "code",
   "execution_count": 7,
   "id": "5caef034-4892-4e14-ba8a-2ba237cab970",
   "metadata": {},
   "outputs": [
    {
     "data": {
      "text/plain": [
       "126811.54068436257"
      ]
     },
     "execution_count": 7,
     "metadata": {},
     "output_type": "execute_result"
    }
   ],
   "source": [
    "np.mean(incomes)"
   ]
  },
  {
   "cell_type": "code",
   "execution_count": 8,
   "id": "182ac6fd-2569-48fc-a1aa-4576d3a540e1",
   "metadata": {},
   "outputs": [
    {
     "data": {
      "text/plain": [
       "26831.756874496958"
      ]
     },
     "execution_count": 8,
     "metadata": {},
     "output_type": "execute_result"
    }
   ],
   "source": [
    "np.median(incomes)"
   ]
  },
  {
   "cell_type": "markdown",
   "id": "a60422a2-18fa-467d-b1e0-d50f4688accf",
   "metadata": {},
   "source": [
    "### Mode"
   ]
  },
  {
   "cell_type": "code",
   "execution_count": 13,
   "id": "ed7ec544-ce8a-4aac-b4d2-ba3b1c545423",
   "metadata": {},
   "outputs": [
    {
     "data": {
      "text/plain": [
       "array([69, 40, 37, 26, 74, 88, 48, 23, 81, 56, 88, 82, 81, 47, 86, 75, 32,\n",
       "       64, 73, 81, 88, 30, 83, 87, 43, 76, 78, 53, 25, 73, 32, 68, 38, 44,\n",
       "       53, 28, 44, 59, 81, 20, 68, 87, 81, 22, 69, 75, 32, 86, 67, 18, 66,\n",
       "       71, 31, 71, 87, 79, 68, 18, 66, 22, 68, 48, 59, 71, 82, 37, 53, 27,\n",
       "       76, 87, 66, 69, 49, 35, 26, 43, 45, 76, 61, 74, 22, 32, 65, 30, 32,\n",
       "       32, 33, 76, 65, 45, 46, 86, 76, 75, 23, 78, 83, 61, 58, 68, 67, 43,\n",
       "       55, 28, 51, 61, 60, 53, 49, 81, 29, 55, 26, 28, 44, 63, 23, 28, 63,\n",
       "       87, 87, 88, 23, 49, 54, 64, 23, 29, 44, 89, 34, 35, 77, 21, 53, 45,\n",
       "       65, 50, 65, 75, 73, 70, 66, 26, 84, 81, 20, 66, 19, 33, 22, 46, 56,\n",
       "       36, 69, 66, 57, 55, 89, 39, 68, 32, 33, 83, 53, 70, 22, 73, 40, 62,\n",
       "       20, 36, 36, 41, 81, 46, 49, 64, 30, 70, 26, 80, 37, 38, 35, 44, 66,\n",
       "       87, 47, 82, 42, 27, 55, 66, 88, 25, 84, 56, 55, 35, 38, 39, 49, 68,\n",
       "       25, 46, 75, 32, 20, 74, 68, 82, 68, 29, 46, 53, 24, 78, 35, 27, 29,\n",
       "       21, 83, 48, 26, 33, 39, 73, 71, 58, 29, 68, 21, 66, 36, 71, 59, 19,\n",
       "       39, 18, 88, 44, 21, 48, 83, 80, 80, 21, 55, 83, 71, 50, 37, 28, 88,\n",
       "       83, 65, 45, 31, 25, 31, 21, 55, 44, 57, 70, 70, 74, 73, 64, 28, 56,\n",
       "       33, 56, 60, 60, 28, 66, 54, 73, 50, 35, 23, 59, 24, 79, 65, 74, 77,\n",
       "       71, 77, 62, 44, 76, 42, 54, 34, 75, 47, 41, 58, 44, 63, 69, 60, 36,\n",
       "       56, 72, 39, 22, 43, 36, 68, 22, 68, 51, 65, 64, 67, 20, 37, 59, 36,\n",
       "       66, 61, 31, 24, 33, 81, 62, 26, 20, 38, 65, 30, 64, 68, 47, 30, 78,\n",
       "       75, 28, 28, 41, 60, 42, 75, 72, 62, 25, 46, 73, 36, 89, 88, 21, 85,\n",
       "       38, 62, 66, 31, 48, 59, 24, 23, 22, 41, 38, 87, 87, 75, 82, 18, 40,\n",
       "       51, 66, 52, 79, 38, 88, 79, 44, 68, 29, 33, 62, 84, 21, 23, 84, 74,\n",
       "       41, 89, 57, 85, 34, 86, 86, 50, 38, 45, 73, 23, 65, 60, 61, 79, 23,\n",
       "       38, 76, 61, 68, 62, 68, 77, 72, 32, 48, 48, 81, 65, 72, 54, 51, 45,\n",
       "       85, 87, 20, 23, 24, 73, 38, 39, 35, 28, 66, 58, 68, 34, 26, 37, 37,\n",
       "       59, 22, 30, 25, 18, 57, 64, 67, 29, 47, 46, 65, 23, 34, 36, 70, 41,\n",
       "       52, 41, 53, 70, 66, 56, 74, 78, 70, 84, 44, 21, 24, 68, 84, 28, 87,\n",
       "       80, 24, 53, 39, 19, 83, 60, 73, 80, 68, 89, 28, 24, 73, 76, 70, 68,\n",
       "       20, 65, 33, 71, 54, 68, 25])"
      ]
     },
     "execution_count": 13,
     "metadata": {},
     "output_type": "execute_result"
    }
   ],
   "source": [
    "ages = np.random.randint(18, high=90, size=500)\n",
    "ages"
   ]
  },
  {
   "cell_type": "code",
   "execution_count": 16,
   "id": "125e7ac1-26c6-4111-94e0-cbb840742a89",
   "metadata": {},
   "outputs": [
    {
     "data": {
      "text/plain": [
       "ModeResult(mode=array([68]), count=array([21]))"
      ]
     },
     "execution_count": 16,
     "metadata": {},
     "output_type": "execute_result"
    }
   ],
   "source": [
    "from scipy import stats\n",
    "stats.mode(ages)"
   ]
  },
  {
   "cell_type": "markdown",
   "id": "5cbb75b6-d6ee-4879-94b6-12a88bb5dd77",
   "metadata": {},
   "source": [
    "## Exercise"
   ]
  },
  {
   "cell_type": "code",
   "execution_count": 21,
   "id": "313d3cd2-887b-46c7-8353-85c53ae69750",
   "metadata": {},
   "outputs": [
    {
     "data": {
      "image/png": "[encoded data removed]",
      "text/plain": [
       "<Figure size 432x288 with 1 Axes>"
      ]
     },
     "metadata": {
      "needs_background": "light"
     },
     "output_type": "display_data"
    }
   ],
   "source": [
    "incomes2= np.random.normal(100.0, 20, 50000)\n",
    "\n",
    "plt.hist(incomes2, 50)\n",
    "plt.show()"
   ]
  },
  {
   "cell_type": "code",
   "execution_count": 22,
   "id": "efb47aa7-6069-4d29-87b2-fe93a5673dfa",
   "metadata": {},
   "outputs": [
    {
     "data": {
      "text/plain": [
       "99.7984985126973"
      ]
     },
     "execution_count": 22,
     "metadata": {},
     "output_type": "execute_result"
    }
   ],
   "source": [
    "np.mean(incomes2)"
   ]
  },
  {
   "cell_type": "code",
   "execution_count": 23,
   "id": "76d9b3eb-3785-4d8b-8acd-4f44f9bf5439",
   "metadata": {},
   "outputs": [
    {
     "data": {
      "text/plain": [
       "99.81672626881681"
      ]
     },
     "execution_count": 23,
     "metadata": {},
     "output_type": "execute_result"
    }
   ],
   "source": [
    "np.median(incomes2)"
   ]
  },
  {
   "cell_type": "code",
   "execution_count": null,
   "id": "1aa02d1f-c34f-4e15-823f-838879ddea94",
   "metadata": {},
   "outputs": [],
   "source": []
  }
 ],
 "metadata": {
  "kernelspec": {
   "display_name": "Python 3 (ipykernel)",
   "language": "python",
   "name": "python3"
  },
  "language_info": {
   "codemirror_mode": {
    "name": "ipython",
    "version": 3
   },
   "file_extension": ".py",
   "mimetype": "text/x-python",
   "name": "python",
   "nbconvert_exporter": "python",
   "pygments_lexer": "ipython3",
   "version": "3.9.7"
  }
 },
 "nbformat": 4,
 "nbformat_minor": 5
}
