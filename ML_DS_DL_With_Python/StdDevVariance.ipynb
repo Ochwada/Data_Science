{
 "cells": [
  {
   "cell_type": "code",
   "execution_count": 1,
   "id": "02e8c46e-01b3-4fb5-87eb-ee77cebaf5ab",
   "metadata": {},
   "outputs": [],
   "source": [
    "import numpy as np\n",
    "import matplotlib.pyplot as plt"
   ]
  },
  {
   "cell_type": "code",
   "execution_count": 4,
   "id": "580c5455-4654-4f95-8d4d-32362f23ff2e",
   "metadata": {},
   "outputs": [
    {
     "data": {
      "image/png": "[encoded data removed]",
      "text/plain": [
       "<Figure size 432x288 with 1 Axes>"
      ]
     },
     "metadata": {
      "needs_background": "light"
     },
     "output_type": "display_data"
    }
   ],
   "source": [
    "# centered around 100, std of 20 and 10,000 data points\n",
    "incomes = np.random.normal(100.0, 20.0, 10000) \n",
    "plt.hist(incomes, 50)\n",
    "plt.show()"
   ]
  },
  {
   "cell_type": "code",
   "execution_count": 5,
   "id": "c5990657-0761-4989-b0f2-af567a5b31c6",
   "metadata": {},
   "outputs": [
    {
     "data": {
      "text/plain": [
       "20.137134300071292"
      ]
     },
     "execution_count": 5,
     "metadata": {},
     "output_type": "execute_result"
    }
   ],
   "source": [
    "incomes.std()"
   ]
  },
  {
   "cell_type": "code",
   "execution_count": 7,
   "id": "5fa7785e-15ca-42ad-a8ff-574444588586",
   "metadata": {},
   "outputs": [
    {
     "data": {
      "text/plain": [
       "405.5041778191077"
      ]
     },
     "execution_count": 7,
     "metadata": {},
     "output_type": "execute_result"
    }
   ],
   "source": [
    "incomes.var()"
   ]
  },
  {
   "cell_type": "code",
   "execution_count": 8,
   "id": "d65a5a5d-5f73-4ed9-be1d-320bdf54473c",
   "metadata": {},
   "outputs": [
    {
     "data": {
      "image/png": "[encoded data removed]",
      "text/plain": [
       "<Figure size 432x288 with 1 Axes>"
      ]
     },
     "metadata": {
      "needs_background": "light"
     },
     "output_type": "display_data"
    }
   ],
   "source": [
    "incomes2 = np.random.normal(40, 33, 30000)\n",
    "plt.hist(incomes2, 40)\n",
    "plt.show()"
   ]
  },
  {
   "cell_type": "code",
   "execution_count": 10,
   "id": "cf1e086f-facf-45d1-a10c-3532e5c2c4b1",
   "metadata": {},
   "outputs": [
    {
     "data": {
      "text/plain": [
       "32.81124560049418"
      ]
     },
     "execution_count": 10,
     "metadata": {},
     "output_type": "execute_result"
    }
   ],
   "source": [
    "incomes2.std()"
   ]
  },
  {
   "cell_type": "code",
   "execution_count": 11,
   "id": "e30792d3-7b9d-4fa1-88cd-cf94b16f731c",
   "metadata": {},
   "outputs": [
    {
     "data": {
      "text/plain": [
       "1076.5778378559487"
      ]
     },
     "execution_count": 11,
     "metadata": {},
     "output_type": "execute_result"
    }
   ],
   "source": [
    "incomes2.var()"
   ]
  },
  {
   "cell_type": "code",
   "execution_count": null,
   "id": "62a86a38-5790-47d6-8acd-f8ebbd10d7b6",
   "metadata": {},
   "outputs": [],
   "source": []
  }
 ],
 "metadata": {
  "kernelspec": {
   "display_name": "Python 3 (ipykernel)",
   "language": "python",
   "name": "python3"
  },
  "language_info": {
   "codemirror_mode": {
    "name": "ipython",
    "version": 3
   },
   "file_extension": ".py",
   "mimetype": "text/x-python",
   "name": "python",
   "nbconvert_exporter": "python",
   "pygments_lexer": "ipython3",
   "version": "3.9.7"
  }
 },
 "nbformat": 4,
 "nbformat_minor": 5
}
