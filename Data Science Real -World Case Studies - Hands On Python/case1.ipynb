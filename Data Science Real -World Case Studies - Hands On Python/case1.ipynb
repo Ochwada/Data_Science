{
 "cells": [
  {
   "cell_type": "code",
   "execution_count": 1,
   "metadata": {},
   "outputs": [],
   "source": [
    "#%% a the beginning of your code\n",
    "import numpy as np\n",
    "import scipy as sp\n",
    "import matplotlib as mat\n",
    "import matplotlib.pyplot as mpl"
   ]
  },
  {
   "cell_type": "code",
   "execution_count": null,
   "metadata": {},
   "outputs": [],
   "source": [
    "# Data  -> Raw information\n",
    "# Transactional data from e-commerce website\n",
    "# Route optimisation using  using Data Science ! Route A or B with A being short\n",
    "# traffic in A forces you to use route B ( Choose the fastest way to react your office)\n",
    "\n",
    "# Data COllection with respect to route A or B \n",
    "\n",
    "# Explore the data (a) Decide on the data --> Time and Traffic i.e. \n",
    "# From home to work * Consider traffic delays"
   ]
  }
 ],
 "metadata": {
  "interpreter": {
   "hash": "10dfeb15a9f742646c5b9a07fef44246e0b1f2da52517db32c5413b97f5bc1f6"
  },
  "kernelspec": {
   "display_name": "Python 3.9.7",
   "language": "python",
   "name": "python3"
  },
  "language_info": {
   "codemirror_mode": {
    "name": "ipython",
    "version": 3
   },
   "file_extension": ".py",
   "mimetype": "text/x-python",
   "name": "python",
   "nbconvert_exporter": "python",
   "pygments_lexer": "ipython3",
   "version": "3.9.7"
  },
  "orig_nbformat": 4
 },
 "nbformat": 4,
 "nbformat_minor": 2
}
